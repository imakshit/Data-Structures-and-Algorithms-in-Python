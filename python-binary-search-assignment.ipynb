{
 "cells": [
  {
   "cell_type": "markdown",
   "id": "requested-power",
   "metadata": {
    "id": "requested-power"
   },
   "source": [
    "# Assignment 1 - Binary Search Practice\n",
    "\n",
    "_This assignment is a part of the course [\"Data Structures and Algorithms in Python\"](https://jovian.ai/learn/data-structures-and-algorithms-in-python)._\n",
    "\n",
    "In this assignment, you'll get to practice some of the concepts and skills covered in the following notebooks:\n",
    "\n",
    "1. [Binary Search and Complexity Analysis](https://jovian.ai/aakashns/python-binary-search)\n",
    "3. [Solving Programming Problems Systematically](https://jovian.ai/aakashns/python-problem-solving-template)\n",
    "\n",
    "As you go through this notebook, you will find a **???** in certain places. To complete this assignment, you must replace all the **???** with appropriate values, expressions or statements to ensure that the notebook runs properly end-to-end. \n",
    "\n",
    "Some things to keep in mind:\n",
    "\n",
    "* Make sure to run all the code cells, otherwise you may get errors like `NameError` for undefined variables.\n",
    "* Do not change variable names, delete cells or disturb other existing code. It may cause problems during evaluation.\n",
    "* In some cases, you may need to add some code cells or new statements before or after the line of code containing the **???**. \n",
    "* Since you'll be using a temporary online service for code execution, save your work by running `jovian.commit` at regular intervals.\n",
    "* Questions marked **(Optional)** will not be considered for evaluation, and can be skipped. They are for your learning.\n",
    "\n",
    "You can make submissions on this page: https://jovian.ai/learn/data-structures-and-algorithms-in-python/assignment/assignment-1-binary-search-practice\n",
    "\n",
    "\n",
    "If you are stuck, you can ask for help on the community forum: https://jovian.ai/forum/c/data-structures-and-algorithms-in-python/assignment-1/87 . You can get help with errors or ask for hints, but **please don't ask for OR share the full working answer code** on the forum.\n",
    "\n"
   ]
  },
  {
   "cell_type": "markdown",
   "id": "incident-screw",
   "metadata": {
    "id": "incident-screw"
   },
   "source": [
    "## How to run the code and save your work\n",
    "\n",
    "The recommended way to run this notebook is to click the \"Run\" button at the top of this page, and select \"Run on Binder\". This will run the notebook on [mybinder.org](https://mybinder.org), a free online service for running Jupyter notebooks. \n",
    "\n",
    "This tutorial is an executable [Jupyter notebook](https://jupyter.org). You can _run_ this tutorial and experiment with the code examples in a couple of ways: *using free online resources* (recommended) or *on your computer*.\n",
    "\n",
    "#### Option 1: Running using free online resources (1-click, recommended)\n",
    "\n",
    "The easiest way to start executing the code is to click the **Run** button at the top of this page and select **Run on Binder**. You can also select \"Run on Colab\" or \"Run on Kaggle\", but you'll need to create an account on [Google Colab](https://colab.research.google.com) or [Kaggle](https://kaggle.com) to use these platforms.\n",
    "\n",
    "\n",
    "#### Option 2: Running on your computer locally\n",
    "\n",
    "To run the code on your computer locally, you'll need to set up [Python](https://www.python.org), download the notebook and install the required libraries. We recommend using the [Conda](https://docs.conda.io/projects/conda/en/latest/user-guide/install/) distribution of Python. Click the **Run** button at the top of this page, select the **Run Locally** option, and follow the instructions.\n",
    "\n",
    "#### Saving your work\n",
    "\n",
    "Before staring the assignment, let's save a snapshot of the assignment to your [Jovian](https://jovian.ai) profile, so that you can access it later, and continue your work."
   ]
  },
  {
   "cell_type": "code",
   "execution_count": 2,
   "id": "together-original",
   "metadata": {
    "executionInfo": {
     "elapsed": 3558,
     "status": "ok",
     "timestamp": 1612541424118,
     "user": {
      "displayName": "Akshit Gupta",
      "photoUrl": "https://lh3.googleusercontent.com/a-/AOh14GiPSTrFQbgHbRnE9r2Xh2uYx2upQdyunc70k_EgFw=s64",
      "userId": "06732447040247812983"
     },
     "user_tz": -330
    },
    "id": "together-original"
   },
   "outputs": [],
   "source": [
    "!pip install jovian --upgrade --quiet"
   ]
  },
  {
   "cell_type": "code",
   "execution_count": 3,
   "id": "painful-receptor",
   "metadata": {
    "executionInfo": {
     "elapsed": 3091,
     "status": "ok",
     "timestamp": 1612541424120,
     "user": {
      "displayName": "Akshit Gupta",
      "photoUrl": "https://lh3.googleusercontent.com/a-/AOh14GiPSTrFQbgHbRnE9r2Xh2uYx2upQdyunc70k_EgFw=s64",
      "userId": "06732447040247812983"
     },
     "user_tz": -330
    },
    "id": "painful-receptor"
   },
   "outputs": [],
   "source": [
    "import jovian"
   ]
  },
  {
   "cell_type": "code",
   "execution_count": 4,
   "id": "confirmed-stephen",
   "metadata": {
    "executionInfo": {
     "elapsed": 2058,
     "status": "ok",
     "timestamp": 1612541424123,
     "user": {
      "displayName": "Akshit Gupta",
      "photoUrl": "https://lh3.googleusercontent.com/a-/AOh14GiPSTrFQbgHbRnE9r2Xh2uYx2upQdyunc70k_EgFw=s64",
      "userId": "06732447040247812983"
     },
     "user_tz": -330
    },
    "id": "confirmed-stephen"
   },
   "outputs": [],
   "source": [
    "project='python-binary-search-assignment'"
   ]
  },
  {
   "cell_type": "code",
   "execution_count": 5,
   "id": "magnetic-economy",
   "metadata": {
    "colab": {
     "base_uri": "https://localhost:8080/",
     "height": 86
    },
    "executionInfo": {
     "elapsed": 3619,
     "status": "ok",
     "timestamp": 1612541428625,
     "user": {
      "displayName": "Akshit Gupta",
      "photoUrl": "https://lh3.googleusercontent.com/a-/AOh14GiPSTrFQbgHbRnE9r2Xh2uYx2upQdyunc70k_EgFw=s64",
      "userId": "06732447040247812983"
     },
     "user_tz": -330
    },
    "id": "magnetic-economy",
    "outputId": "5338492d-2f2d-45c5-9c03-f826ebc01dff"
   },
   "outputs": [
    {
     "name": "stdout",
     "output_type": "stream",
     "text": [
      "[jovian] Detected Colab notebook...\u001b[0m\n",
      "[jovian] Uploading colab notebook to Jovian...\u001b[0m\n",
      "[jovian] Committed successfully! https://jovian.ai/imakshit/python-binary-search-assignment\u001b[0m\n"
     ]
    },
    {
     "data": {
      "application/vnd.google.colaboratory.intrinsic+json": {
       "type": "string"
      },
      "text/plain": [
       "'https://jovian.ai/imakshit/python-binary-search-assignment'"
      ]
     },
     "execution_count": 5,
     "metadata": {
      "tags": []
     },
     "output_type": "execute_result"
    }
   ],
   "source": [
    "jovian.commit(project, privacy='secret', environment=None)"
   ]
  },
  {
   "cell_type": "markdown",
   "id": "administrative-marketing",
   "metadata": {
    "id": "administrative-marketing"
   },
   "source": [
    "You'll be asked to provide an API Key, to securely upload the notebook to your Jovian.ml account. You can get the API key from your Jovian profile page after logging in / signing up. See the docs for details: https://jovian.ai/docs/user-guide/upload.html . \n",
    "\n",
    "The privacy of your assignment notebook is set to \"Secret\", so that you can the evaluators can access it, but it will not shown on your public profile to other users. To continue working on a saved assignment, just run the saved notebook again."
   ]
  },
  {
   "cell_type": "markdown",
   "id": "conservative-worcester",
   "metadata": {
    "id": "conservative-worcester"
   },
   "source": [
    "## Problem - Rotated Lists\n",
    "\n",
    "We'll solve the following problem step-by-step:\n",
    "\n",
    "> You are given list of numbers, obtained by rotating a sorted list an unknown number of times. Write a function to determine the minimum number of times the original sorted list was rotated to obtain the given list. Your function should have the worst-case complexity of `O(log N)`, where N is the length of the list. You can assume that all the numbers in the list are unique.\n",
    ">\n",
    "> Example: The list `[5, 6, 9, 0, 2, 3, 4]` was obtained by rotating the sorted list `[0, 2, 3, 4, 5, 6, 9]` 3 times.\n",
    ">\n",
    "> We define \"rotating a list\" as removing the last element of the list and adding it before the first element. E.g. rotating the list `[3, 2, 4, 1]` produces `[1, 3, 2, 4]`. \n",
    ">\n",
    ">\"Sorted list\" refers to a list where the elements are arranged in the increasing order  e.g. `[1, 3, 5, 7]`.\n",
    ">"
   ]
  },
  {
   "cell_type": "markdown",
   "id": "popular-junction",
   "metadata": {
    "id": "popular-junction"
   },
   "source": [
    "## The Method\n",
    "\n",
    "Here's the systematic strategy we'll apply for solving problems:\n",
    "\n",
    "1. State the problem clearly. Identify the input & output formats.\n",
    "2. Come up with some example inputs & outputs. Try to cover all edge cases.\n",
    "3. Come up with a correct solution for the problem. State it in plain English.\n",
    "4. Implement the solution and test it using example inputs. Fix bugs, if any.\n",
    "5. Analyze the algorithm's complexity and identify inefficiencies, if any.\n",
    "6. Apply the right technique to overcome the inefficiency. Repeat steps 3 to 6.\n",
    "\n",
    "This approach is explained in detail in [Lesson 1](https://jovian.ai/learn/data-structures-and-algorithms-in-python/lesson/lesson-1-binary-search-linked-lists-and-complexity) of the course. Let's apply this approach step-by-step."
   ]
  },
  {
   "cell_type": "markdown",
   "id": "rotary-champion",
   "metadata": {
    "id": "rotary-champion"
   },
   "source": [
    "## Solution\n",
    "\n",
    "\n",
    "### 1. State the problem clearly. Identify the input & output formats.\n",
    "\n",
    "While this problem is stated clearly enough, it's always useful to try and express in your own words, in a way that makes it most clear for you. It's perfectly OK if your description overlaps with the original problem statement to a large extent.\n",
    "\n",
    "<br/>\n",
    "\n",
    "_**Q: Express the problem in your own words below (to edit this cell, double click on it).**_\n",
    "\n",
    "**Problem**\n",
    "\n",
    "> number of rotations to make the array sorted again or in other words, index of minimum element \n",
    "\n",
    "<br/>\n",
    "\n",
    "_**Q: The function you write will take one input called `nums`. What does it represent? Give an example.**_\n",
    "\n",
    "**Input**\n",
    "\n",
    "1. `nums`: [3,4,5,0,1,2], represents the input array \n",
    "\n",
    "<br/>\n",
    "\n",
    "_**Q: The function you write will return a single output called `rotations`. What does it represent? Give an example.**_\n",
    "\n",
    "**Output**\n",
    "\n",
    "3. `rotations`: 3, number of times array was rotated\n",
    "\n",
    "<br/>\n",
    "\n",
    "Based on the above, we can now create a signature of our function:"
   ]
  },
  {
   "cell_type": "code",
   "execution_count": 6,
   "id": "adult-boring",
   "metadata": {
    "executionInfo": {
     "elapsed": 1173,
     "status": "ok",
     "timestamp": 1612541432913,
     "user": {
      "displayName": "Akshit Gupta",
      "photoUrl": "https://lh3.googleusercontent.com/a-/AOh14GiPSTrFQbgHbRnE9r2Xh2uYx2upQdyunc70k_EgFw=s64",
      "userId": "06732447040247812983"
     },
     "user_tz": -330
    },
    "id": "adult-boring"
   },
   "outputs": [],
   "source": [
    "def count_rotations(nums):\n",
    "  pass"
   ]
  },
  {
   "cell_type": "markdown",
   "id": "logical-change",
   "metadata": {
    "id": "logical-change"
   },
   "source": [
    "After each, step remember to save your notebook"
   ]
  },
  {
   "cell_type": "code",
   "execution_count": 7,
   "id": "alone-status",
   "metadata": {
    "colab": {
     "base_uri": "https://localhost:8080/",
     "height": 102
    },
    "executionInfo": {
     "elapsed": 4320,
     "status": "ok",
     "timestamp": 1612541437357,
     "user": {
      "displayName": "Akshit Gupta",
      "photoUrl": "https://lh3.googleusercontent.com/a-/AOh14GiPSTrFQbgHbRnE9r2Xh2uYx2upQdyunc70k_EgFw=s64",
      "userId": "06732447040247812983"
     },
     "user_tz": -330
    },
    "id": "alone-status",
    "outputId": "097e5fed-de84-4726-b219-550a2773e8b8"
   },
   "outputs": [
    {
     "name": "stdout",
     "output_type": "stream",
     "text": [
      "[jovian] Detected Colab notebook...\u001b[0m\n",
      "[jovian] Uploading colab notebook to Jovian...\u001b[0m\n",
      "[jovian] Capturing environment..\u001b[0m\n",
      "[jovian] Committed successfully! https://jovian.ai/imakshit/python-binary-search-assignment\u001b[0m\n"
     ]
    },
    {
     "data": {
      "application/vnd.google.colaboratory.intrinsic+json": {
       "type": "string"
      },
      "text/plain": [
       "'https://jovian.ai/imakshit/python-binary-search-assignment'"
      ]
     },
     "execution_count": 7,
     "metadata": {
      "tags": []
     },
     "output_type": "execute_result"
    }
   ],
   "source": [
    "jovian.commit(project)"
   ]
  },
  {
   "cell_type": "markdown",
   "id": "stuck-application",
   "metadata": {
    "id": "stuck-application"
   },
   "source": [
    "### 2. Come up with some example inputs & outputs. Try to cover all edge cases.\n",
    "\n",
    "Our function should be able to handle any set of valid inputs we pass into it. Here's a list of some possible variations we might encounter:\n",
    "\n",
    "1. A list of size 10 rotated 3 times.\n",
    "2. A list of size 8 rotated 5 times.\n",
    "3. A list that wasn't rotated at all.\n",
    "4. A list that was rotated just once. \n",
    "5. A list that was rotated `n-1` times, where `n` is the size of the list.\n",
    "6. A list that was rotated `n` times (do you get back the original list here?)\n",
    "7. An empty list.\n",
    "8. A list containing just one element.\n",
    "9. (can you think of any more?)\n",
    "\n",
    "We'll express our test cases as dictionaries, to test them easily. Each dictionary will contain 2 keys: `input` (a dictionary itself containing one key for each argument to the function and `output` (the expected result from the function). Here's an example."
   ]
  },
  {
   "cell_type": "code",
   "execution_count": 8,
   "id": "incoming-assumption",
   "metadata": {
    "executionInfo": {
     "elapsed": 1267,
     "status": "ok",
     "timestamp": 1612541440189,
     "user": {
      "displayName": "Akshit Gupta",
      "photoUrl": "https://lh3.googleusercontent.com/a-/AOh14GiPSTrFQbgHbRnE9r2Xh2uYx2upQdyunc70k_EgFw=s64",
      "userId": "06732447040247812983"
     },
     "user_tz": -330
    },
    "id": "incoming-assumption"
   },
   "outputs": [],
   "source": [
    "test = {\n",
    "    'input': {\n",
    "        'nums': [19, 25, 29, 3, 5, 6, 7, 9, 11, 14]\n",
    "    },\n",
    "    'output': 4\n",
    "}"
   ]
  },
  {
   "cell_type": "markdown",
   "id": "nervous-austin",
   "metadata": {
    "id": "nervous-austin"
   },
   "source": [
    "We can test the function by passing the input to it directly or by using the `evaluate_test_case` function from `jovian`."
   ]
  },
  {
   "cell_type": "code",
   "execution_count": 9,
   "id": "moral-glenn",
   "metadata": {
    "colab": {
     "base_uri": "https://localhost:8080/"
    },
    "executionInfo": {
     "elapsed": 758,
     "status": "ok",
     "timestamp": 1612541441453,
     "user": {
      "displayName": "Akshit Gupta",
      "photoUrl": "https://lh3.googleusercontent.com/a-/AOh14GiPSTrFQbgHbRnE9r2Xh2uYx2upQdyunc70k_EgFw=s64",
      "userId": "06732447040247812983"
     },
     "user_tz": -330
    },
    "id": "moral-glenn",
    "outputId": "efcc2e02-dfa1-4c46-c2c7-689d8fc4528e"
   },
   "outputs": [
    {
     "data": {
      "text/plain": [
       "(None, False)"
      ]
     },
     "execution_count": 9,
     "metadata": {
      "tags": []
     },
     "output_type": "execute_result"
    }
   ],
   "source": [
    "nums0 = test['input']['nums']\n",
    "output0 = test['input']['nums']\n",
    "result0 = count_rotations(nums0)\n",
    "\n",
    "result0, result0 == output0"
   ]
  },
  {
   "cell_type": "code",
   "execution_count": 10,
   "id": "official-theology",
   "metadata": {
    "executionInfo": {
     "elapsed": 885,
     "status": "ok",
     "timestamp": 1612541442031,
     "user": {
      "displayName": "Akshit Gupta",
      "photoUrl": "https://lh3.googleusercontent.com/a-/AOh14GiPSTrFQbgHbRnE9r2Xh2uYx2upQdyunc70k_EgFw=s64",
      "userId": "06732447040247812983"
     },
     "user_tz": -330
    },
    "id": "official-theology"
   },
   "outputs": [],
   "source": [
    "from jovian.pythondsa import evaluate_test_case"
   ]
  },
  {
   "cell_type": "code",
   "execution_count": 11,
   "id": "charitable-daniel",
   "metadata": {
    "colab": {
     "base_uri": "https://localhost:8080/"
    },
    "executionInfo": {
     "elapsed": 920,
     "status": "ok",
     "timestamp": 1612541443097,
     "user": {
      "displayName": "Akshit Gupta",
      "photoUrl": "https://lh3.googleusercontent.com/a-/AOh14GiPSTrFQbgHbRnE9r2Xh2uYx2upQdyunc70k_EgFw=s64",
      "userId": "06732447040247812983"
     },
     "user_tz": -330
    },
    "id": "charitable-daniel",
    "outputId": "855d529b-86d2-4243-8b44-be2116c46e87"
   },
   "outputs": [
    {
     "name": "stdout",
     "output_type": "stream",
     "text": [
      "\n",
      "Input:\n",
      "{'nums': [19, 25, 29, 3, 5, 6, 7, 9, 11, 14]}\n",
      "\n",
      "Expected Output:\n",
      "4\n",
      "\n",
      "\n",
      "Actual Output:\n",
      "None\n",
      "\n",
      "Execution Time:\n",
      "0.003 ms\n",
      "\n",
      "Test Result:\n",
      "\u001b[91mFAILED\u001b[0m\n",
      "\n"
     ]
    },
    {
     "data": {
      "text/plain": [
       "(None, False, 0.003)"
      ]
     },
     "execution_count": 11,
     "metadata": {
      "tags": []
     },
     "output_type": "execute_result"
    }
   ],
   "source": [
    "evaluate_test_case(count_rotations, test)"
   ]
  },
  {
   "cell_type": "markdown",
   "id": "saved-carnival",
   "metadata": {
    "id": "saved-carnival"
   },
   "source": [
    "Let's create one test case for each of the scenarios listed above. We'll store our test cases in an array called `tests`."
   ]
  },
  {
   "cell_type": "code",
   "execution_count": 12,
   "id": "dried-galaxy",
   "metadata": {
    "executionInfo": {
     "elapsed": 724,
     "status": "ok",
     "timestamp": 1612541444962,
     "user": {
      "displayName": "Akshit Gupta",
      "photoUrl": "https://lh3.googleusercontent.com/a-/AOh14GiPSTrFQbgHbRnE9r2Xh2uYx2upQdyunc70k_EgFw=s64",
      "userId": "06732447040247812983"
     },
     "user_tz": -330
    },
    "id": "dried-galaxy"
   },
   "outputs": [],
   "source": [
    "tests = []"
   ]
  },
  {
   "cell_type": "code",
   "execution_count": 13,
   "id": "identified-journal",
   "metadata": {
    "executionInfo": {
     "elapsed": 1004,
     "status": "ok",
     "timestamp": 1612541445606,
     "user": {
      "displayName": "Akshit Gupta",
      "photoUrl": "https://lh3.googleusercontent.com/a-/AOh14GiPSTrFQbgHbRnE9r2Xh2uYx2upQdyunc70k_EgFw=s64",
      "userId": "06732447040247812983"
     },
     "user_tz": -330
    },
    "id": "identified-journal"
   },
   "outputs": [],
   "source": [
    "tests.append(test)"
   ]
  },
  {
   "cell_type": "markdown",
   "id": "neither-stability",
   "metadata": {
    "id": "neither-stability"
   },
   "source": [
    "_**Q: Create proper test cases for each of the scenarios listed above.**_"
   ]
  },
  {
   "cell_type": "code",
   "execution_count": 14,
   "id": "capital-milwaukee",
   "metadata": {
    "executionInfo": {
     "elapsed": 920,
     "status": "ok",
     "timestamp": 1612541446147,
     "user": {
      "displayName": "Akshit Gupta",
      "photoUrl": "https://lh3.googleusercontent.com/a-/AOh14GiPSTrFQbgHbRnE9r2Xh2uYx2upQdyunc70k_EgFw=s64",
      "userId": "06732447040247812983"
     },
     "user_tz": -330
    },
    "id": "capital-milwaukee"
   },
   "outputs": [],
   "source": [
    "# A list of size 8 rotated 5 times.\n",
    "tests.append({\n",
    "    'input': {\n",
    "        'nums': [5,6,7,8,1,2,3,4]\n",
    "    },\n",
    "    'output': 5\n",
    "})"
   ]
  },
  {
   "cell_type": "code",
   "execution_count": 15,
   "id": "simple-variable",
   "metadata": {
    "executionInfo": {
     "elapsed": 1168,
     "status": "ok",
     "timestamp": 1612541446639,
     "user": {
      "displayName": "Akshit Gupta",
      "photoUrl": "https://lh3.googleusercontent.com/a-/AOh14GiPSTrFQbgHbRnE9r2Xh2uYx2upQdyunc70k_EgFw=s64",
      "userId": "06732447040247812983"
     },
     "user_tz": -330
    },
    "id": "simple-variable"
   },
   "outputs": [],
   "source": [
    "# A list that wasn't rotated at all.\n",
    "tests.append({\n",
    "    'input': {\n",
    "        'nums': [1,2,3,4,5]\n",
    "    },\n",
    "    'output': 0\n",
    "})"
   ]
  },
  {
   "cell_type": "markdown",
   "id": "bright-accessory",
   "metadata": {
    "id": "bright-accessory"
   },
   "source": [
    "A list that was rotated just once.\n",
    "A list that was rotated n-1 times, where n is the size of the list.\n",
    "A list that was rotated n times (do you get back the original list here?)\n",
    "An empty list.\n",
    "A list containing just one element."
   ]
  },
  {
   "cell_type": "code",
   "execution_count": 16,
   "id": "pursuant-facility",
   "metadata": {
    "executionInfo": {
     "elapsed": 1012,
     "status": "ok",
     "timestamp": 1612541447051,
     "user": {
      "displayName": "Akshit Gupta",
      "photoUrl": "https://lh3.googleusercontent.com/a-/AOh14GiPSTrFQbgHbRnE9r2Xh2uYx2upQdyunc70k_EgFw=s64",
      "userId": "06732447040247812983"
     },
     "user_tz": -330
    },
    "id": "pursuant-facility"
   },
   "outputs": [],
   "source": [
    "# A list that was rotated just once.\n",
    "tests.append({\n",
    "    'input': {\n",
    "        'nums': [5,1,2,3,4]\n",
    "    },\n",
    "    'output': 1\n",
    "})"
   ]
  },
  {
   "cell_type": "code",
   "execution_count": 17,
   "id": "boring-minimum",
   "metadata": {
    "executionInfo": {
     "elapsed": 1330,
     "status": "ok",
     "timestamp": 1612541448822,
     "user": {
      "displayName": "Akshit Gupta",
      "photoUrl": "https://lh3.googleusercontent.com/a-/AOh14GiPSTrFQbgHbRnE9r2Xh2uYx2upQdyunc70k_EgFw=s64",
      "userId": "06732447040247812983"
     },
     "user_tz": -330
    },
    "id": "boring-minimum"
   },
   "outputs": [],
   "source": [
    "# A list that was rotated n-1 times, where n is the size of the list.\n",
    "tests.append({\n",
    "    'input': {\n",
    "        'nums': [2,3,4,1]\n",
    "    },\n",
    "    'output': 3\n",
    "})"
   ]
  },
  {
   "cell_type": "code",
   "execution_count": 18,
   "id": "tamil-iceland",
   "metadata": {
    "executionInfo": {
     "elapsed": 1054,
     "status": "ok",
     "timestamp": 1612541448823,
     "user": {
      "displayName": "Akshit Gupta",
      "photoUrl": "https://lh3.googleusercontent.com/a-/AOh14GiPSTrFQbgHbRnE9r2Xh2uYx2upQdyunc70k_EgFw=s64",
      "userId": "06732447040247812983"
     },
     "user_tz": -330
    },
    "id": "tamil-iceland"
   },
   "outputs": [],
   "source": [
    "# A list that was rotated n times, where n is the size of the list\n",
    "tests.append({\n",
    "    'input': {\n",
    "        'nums': [1,2,3]\n",
    "    },\n",
    "    'output': 0\n",
    "})"
   ]
  },
  {
   "cell_type": "markdown",
   "id": "sweet-ideal",
   "metadata": {
    "id": "sweet-ideal"
   },
   "source": [
    "**HINT**: Read the question carefully to determine the correct output for the above test case."
   ]
  },
  {
   "cell_type": "code",
   "execution_count": 19,
   "id": "shared-cream",
   "metadata": {
    "executionInfo": {
     "elapsed": 1010,
     "status": "ok",
     "timestamp": 1612541449306,
     "user": {
      "displayName": "Akshit Gupta",
      "photoUrl": "https://lh3.googleusercontent.com/a-/AOh14GiPSTrFQbgHbRnE9r2Xh2uYx2upQdyunc70k_EgFw=s64",
      "userId": "06732447040247812983"
     },
     "user_tz": -330
    },
    "id": "shared-cream"
   },
   "outputs": [],
   "source": [
    "# An empty list.\n",
    "tests.append({\n",
    "    'input': {\n",
    "        'nums': []\n",
    "    },\n",
    "    'output': 0\n",
    "})"
   ]
  },
  {
   "cell_type": "code",
   "execution_count": 20,
   "id": "advanced-career",
   "metadata": {
    "executionInfo": {
     "elapsed": 1472,
     "status": "ok",
     "timestamp": 1612541451146,
     "user": {
      "displayName": "Akshit Gupta",
      "photoUrl": "https://lh3.googleusercontent.com/a-/AOh14GiPSTrFQbgHbRnE9r2Xh2uYx2upQdyunc70k_EgFw=s64",
      "userId": "06732447040247812983"
     },
     "user_tz": -330
    },
    "id": "advanced-career"
   },
   "outputs": [],
   "source": [
    "# A list containing just one element.\n",
    "tests.append({\n",
    "    'input': {\n",
    "        'nums': [1]\n",
    "    },\n",
    "    'output': 0\n",
    "})"
   ]
  },
  {
   "cell_type": "markdown",
   "id": "three-factory",
   "metadata": {
    "id": "three-factory"
   },
   "source": [
    "_**Q (Optional): Include any further test cases below, for other interesting scenarios you can think of.**_"
   ]
  },
  {
   "cell_type": "code",
   "execution_count": 20,
   "id": "infrared-worship",
   "metadata": {
    "executionInfo": {
     "elapsed": 1411,
     "status": "ok",
     "timestamp": 1612541451557,
     "user": {
      "displayName": "Akshit Gupta",
      "photoUrl": "https://lh3.googleusercontent.com/a-/AOh14GiPSTrFQbgHbRnE9r2Xh2uYx2upQdyunc70k_EgFw=s64",
      "userId": "06732447040247812983"
     },
     "user_tz": -330
    },
    "id": "infrared-worship"
   },
   "outputs": [],
   "source": []
  },
  {
   "cell_type": "code",
   "execution_count": 20,
   "id": "stable-strategy",
   "metadata": {
    "executionInfo": {
     "elapsed": 1211,
     "status": "ok",
     "timestamp": 1612541451558,
     "user": {
      "displayName": "Akshit Gupta",
      "photoUrl": "https://lh3.googleusercontent.com/a-/AOh14GiPSTrFQbgHbRnE9r2Xh2uYx2upQdyunc70k_EgFw=s64",
      "userId": "06732447040247812983"
     },
     "user_tz": -330
    },
    "id": "stable-strategy"
   },
   "outputs": [],
   "source": []
  },
  {
   "cell_type": "markdown",
   "id": "arabic-davis",
   "metadata": {
    "id": "arabic-davis"
   },
   "source": [
    "Evaluate your function against all the test cases together using the `evaluate_test_cases` (plural) function from `jovian`."
   ]
  },
  {
   "cell_type": "code",
   "execution_count": 21,
   "id": "sophisticated-michael",
   "metadata": {
    "executionInfo": {
     "elapsed": 1462,
     "status": "ok",
     "timestamp": 1612541453521,
     "user": {
      "displayName": "Akshit Gupta",
      "photoUrl": "https://lh3.googleusercontent.com/a-/AOh14GiPSTrFQbgHbRnE9r2Xh2uYx2upQdyunc70k_EgFw=s64",
      "userId": "06732447040247812983"
     },
     "user_tz": -330
    },
    "id": "sophisticated-michael"
   },
   "outputs": [],
   "source": [
    "from jovian.pythondsa import evaluate_test_cases"
   ]
  },
  {
   "cell_type": "code",
   "execution_count": 22,
   "id": "major-height",
   "metadata": {
    "colab": {
     "base_uri": "https://localhost:8080/"
    },
    "executionInfo": {
     "elapsed": 1208,
     "status": "ok",
     "timestamp": 1612541453523,
     "user": {
      "displayName": "Akshit Gupta",
      "photoUrl": "https://lh3.googleusercontent.com/a-/AOh14GiPSTrFQbgHbRnE9r2Xh2uYx2upQdyunc70k_EgFw=s64",
      "userId": "06732447040247812983"
     },
     "user_tz": -330
    },
    "id": "major-height",
    "outputId": "69b79459-01e0-4b0c-88a7-ecfe5bfa6ab8"
   },
   "outputs": [
    {
     "name": "stdout",
     "output_type": "stream",
     "text": [
      "\n",
      "\u001b[1mTEST CASE #0\u001b[0m\n",
      "\n",
      "Input:\n",
      "{'nums': [19, 25, 29, 3, 5, 6, 7, 9, 11, 14]}\n",
      "\n",
      "Expected Output:\n",
      "4\n",
      "\n",
      "\n",
      "Actual Output:\n",
      "None\n",
      "\n",
      "Execution Time:\n",
      "0.014 ms\n",
      "\n",
      "Test Result:\n",
      "\u001b[91mFAILED\u001b[0m\n",
      "\n",
      "\n",
      "\u001b[1mTEST CASE #1\u001b[0m\n",
      "\n",
      "Input:\n",
      "{'nums': [5, 6, 7, 8, 1, 2, 3, 4]}\n",
      "\n",
      "Expected Output:\n",
      "5\n",
      "\n",
      "\n",
      "Actual Output:\n",
      "None\n",
      "\n",
      "Execution Time:\n",
      "0.002 ms\n",
      "\n",
      "Test Result:\n",
      "\u001b[91mFAILED\u001b[0m\n",
      "\n",
      "\n",
      "\u001b[1mTEST CASE #2\u001b[0m\n",
      "\n",
      "Input:\n",
      "{'nums': [1, 2, 3, 4, 5]}\n",
      "\n",
      "Expected Output:\n",
      "0\n",
      "\n",
      "\n",
      "Actual Output:\n",
      "None\n",
      "\n",
      "Execution Time:\n",
      "0.003 ms\n",
      "\n",
      "Test Result:\n",
      "\u001b[91mFAILED\u001b[0m\n",
      "\n",
      "\n",
      "\u001b[1mTEST CASE #3\u001b[0m\n",
      "\n",
      "Input:\n",
      "{'nums': [5, 1, 2, 3, 4]}\n",
      "\n",
      "Expected Output:\n",
      "1\n",
      "\n",
      "\n",
      "Actual Output:\n",
      "None\n",
      "\n",
      "Execution Time:\n",
      "0.002 ms\n",
      "\n",
      "Test Result:\n",
      "\u001b[91mFAILED\u001b[0m\n",
      "\n",
      "\n",
      "\u001b[1mTEST CASE #4\u001b[0m\n",
      "\n",
      "Input:\n",
      "{'nums': [2, 3, 4, 1]}\n",
      "\n",
      "Expected Output:\n",
      "3\n",
      "\n",
      "\n",
      "Actual Output:\n",
      "None\n",
      "\n",
      "Execution Time:\n",
      "0.001 ms\n",
      "\n",
      "Test Result:\n",
      "\u001b[91mFAILED\u001b[0m\n",
      "\n",
      "\n",
      "\u001b[1mTEST CASE #5\u001b[0m\n",
      "\n",
      "Input:\n",
      "{'nums': [1, 2, 3]}\n",
      "\n",
      "Expected Output:\n",
      "0\n",
      "\n",
      "\n",
      "Actual Output:\n",
      "None\n",
      "\n",
      "Execution Time:\n",
      "0.001 ms\n",
      "\n",
      "Test Result:\n",
      "\u001b[91mFAILED\u001b[0m\n",
      "\n",
      "\n",
      "\u001b[1mTEST CASE #6\u001b[0m\n",
      "\n",
      "Input:\n",
      "{'nums': []}\n",
      "\n",
      "Expected Output:\n",
      "0\n",
      "\n",
      "\n",
      "Actual Output:\n",
      "None\n",
      "\n",
      "Execution Time:\n",
      "0.001 ms\n",
      "\n",
      "Test Result:\n",
      "\u001b[91mFAILED\u001b[0m\n",
      "\n",
      "\n",
      "\u001b[1mTEST CASE #7\u001b[0m\n",
      "\n",
      "Input:\n",
      "{'nums': [1]}\n",
      "\n",
      "Expected Output:\n",
      "0\n",
      "\n",
      "\n",
      "Actual Output:\n",
      "None\n",
      "\n",
      "Execution Time:\n",
      "0.001 ms\n",
      "\n",
      "Test Result:\n",
      "\u001b[91mFAILED\u001b[0m\n",
      "\n",
      "\n",
      "\u001b[1mSUMMARY\u001b[0m\n",
      "\n",
      "TOTAL: 8, \u001b[92mPASSED\u001b[0m: 0, \u001b[91mFAILED\u001b[0m: 8\n"
     ]
    },
    {
     "data": {
      "text/plain": [
       "[(None, False, 0.014),\n",
       " (None, False, 0.002),\n",
       " (None, False, 0.003),\n",
       " (None, False, 0.002),\n",
       " (None, False, 0.001),\n",
       " (None, False, 0.001),\n",
       " (None, False, 0.001),\n",
       " (None, False, 0.001)]"
      ]
     },
     "execution_count": 22,
     "metadata": {
      "tags": []
     },
     "output_type": "execute_result"
    }
   ],
   "source": [
    "evaluate_test_cases(count_rotations, tests)"
   ]
  },
  {
   "cell_type": "markdown",
   "id": "former-letters",
   "metadata": {
    "id": "former-letters"
   },
   "source": [
    "Verify that all the test cases were evaluated. We expect them all to fail, since we haven't implemented the function yet.\n",
    "\n",
    "Let's save our work before continuing."
   ]
  },
  {
   "cell_type": "code",
   "execution_count": 23,
   "id": "characteristic-termination",
   "metadata": {
    "colab": {
     "base_uri": "https://localhost:8080/",
     "height": 102
    },
    "executionInfo": {
     "elapsed": 4835,
     "status": "ok",
     "timestamp": 1612541457524,
     "user": {
      "displayName": "Akshit Gupta",
      "photoUrl": "https://lh3.googleusercontent.com/a-/AOh14GiPSTrFQbgHbRnE9r2Xh2uYx2upQdyunc70k_EgFw=s64",
      "userId": "06732447040247812983"
     },
     "user_tz": -330
    },
    "id": "characteristic-termination",
    "outputId": "87a15e43-2161-482e-9986-e4ac66deb3c8"
   },
   "outputs": [
    {
     "name": "stdout",
     "output_type": "stream",
     "text": [
      "[jovian] Detected Colab notebook...\u001b[0m\n",
      "[jovian] Uploading colab notebook to Jovian...\u001b[0m\n",
      "[jovian] Capturing environment..\u001b[0m\n",
      "[jovian] Committed successfully! https://jovian.ai/imakshit/python-binary-search-assignment\u001b[0m\n"
     ]
    },
    {
     "data": {
      "application/vnd.google.colaboratory.intrinsic+json": {
       "type": "string"
      },
      "text/plain": [
       "'https://jovian.ai/imakshit/python-binary-search-assignment'"
      ]
     },
     "execution_count": 23,
     "metadata": {
      "tags": []
     },
     "output_type": "execute_result"
    }
   ],
   "source": [
    "jovian.commit(project)"
   ]
  },
  {
   "cell_type": "markdown",
   "id": "falling-calgary",
   "metadata": {
    "id": "falling-calgary"
   },
   "source": [
    "### 3. Come up with a correct solution for the problem. State it in plain English.\n",
    "\n",
    "Our first goal should always be to come up with a _correct_ solution to the problem, which may not necessarily be the most _efficient_ solution. Try to think of a solution before you read further. \n",
    "\n",
    "Coming up with the correct solution is quite easy, and it's based on this insight: If a list of sorted numbers is rotated `k` times, then the smallest number in the list ends up at position `k` (counting from 0). Further, it is the only number in the list which is smaller than the number before it. Thus, we simply need to **check for each number in the list whether it is smaller than the number that comes before it** (if there is a number before it). Then, our answer i.e. the number of rotations is simply the position of this number is . If we cannot find such a number, then the list wasn't rotated at all.\n",
    "\n",
    "Example: In the list `[19, 25, 29, 3, 5, 6, 7, 9, 11, 14]`, the number `3` is the only number smaller than its predecessor. It occurs at the position `4` (counting from `0`), hence the array was rotated `4` times.\n",
    "\n",
    "\n",
    "We can use the *linear search* algorithm as a first attempt to solve this problem i.e. we can perform the check for every position one by one. But first, try describing the above solution in your own words, that make it clear to you.\n",
    "\n",
    "_**Q (Optional): Describe the linear search solution explained above problem in your own words.**_\n",
    "\n",
    "1. **???**\n",
    "2. **???**\n",
    "3. **???**\n",
    "4. **???**\n",
    "\n",
    "(add more steps if required)\n",
    "\n",
    "\n",
    "Let's save and upload our work before continuing."
   ]
  },
  {
   "cell_type": "code",
   "execution_count": 24,
   "id": "seasonal-intro",
   "metadata": {
    "executionInfo": {
     "elapsed": 3896,
     "status": "ok",
     "timestamp": 1612541457526,
     "user": {
      "displayName": "Akshit Gupta",
      "photoUrl": "https://lh3.googleusercontent.com/a-/AOh14GiPSTrFQbgHbRnE9r2Xh2uYx2upQdyunc70k_EgFw=s64",
      "userId": "06732447040247812983"
     },
     "user_tz": -330
    },
    "id": "seasonal-intro"
   },
   "outputs": [],
   "source": [
    "import jovian"
   ]
  },
  {
   "cell_type": "code",
   "execution_count": 25,
   "id": "divided-convertible",
   "metadata": {
    "colab": {
     "base_uri": "https://localhost:8080/",
     "height": 102
    },
    "executionInfo": {
     "elapsed": 7092,
     "status": "ok",
     "timestamp": 1612541461020,
     "user": {
      "displayName": "Akshit Gupta",
      "photoUrl": "https://lh3.googleusercontent.com/a-/AOh14GiPSTrFQbgHbRnE9r2Xh2uYx2upQdyunc70k_EgFw=s64",
      "userId": "06732447040247812983"
     },
     "user_tz": -330
    },
    "id": "divided-convertible",
    "outputId": "a6efec1d-86b7-4a64-d3b0-1eba3965d180"
   },
   "outputs": [
    {
     "name": "stdout",
     "output_type": "stream",
     "text": [
      "[jovian] Detected Colab notebook...\u001b[0m\n",
      "[jovian] Uploading colab notebook to Jovian...\u001b[0m\n",
      "[jovian] Capturing environment..\u001b[0m\n",
      "[jovian] Committed successfully! https://jovian.ai/imakshit/python-binary-search-assignment\u001b[0m\n"
     ]
    },
    {
     "data": {
      "application/vnd.google.colaboratory.intrinsic+json": {
       "type": "string"
      },
      "text/plain": [
       "'https://jovian.ai/imakshit/python-binary-search-assignment'"
      ]
     },
     "execution_count": 25,
     "metadata": {
      "tags": []
     },
     "output_type": "execute_result"
    }
   ],
   "source": [
    "jovian.commit(project)"
   ]
  },
  {
   "cell_type": "markdown",
   "id": "future-narrative",
   "metadata": {
    "id": "future-narrative"
   },
   "source": [
    "###  4. Implement the solution and test it using example inputs. Fix bugs, if any.\n",
    "\n",
    "_**Q: Implement the solution described in step 3.**_"
   ]
  },
  {
   "cell_type": "markdown",
   "id": "exempt-analysis",
   "metadata": {
    "id": "exempt-analysis"
   },
   "source": [
    "Let's test out the function with the first test case."
   ]
  },
  {
   "cell_type": "code",
   "execution_count": 26,
   "id": "uGvgGFEDzuZ-",
   "metadata": {
    "executionInfo": {
     "elapsed": 5461,
     "status": "ok",
     "timestamp": 1612541461022,
     "user": {
      "displayName": "Akshit Gupta",
      "photoUrl": "https://lh3.googleusercontent.com/a-/AOh14GiPSTrFQbgHbRnE9r2Xh2uYx2upQdyunc70k_EgFw=s64",
      "userId": "06732447040247812983"
     },
     "user_tz": -330
    },
    "id": "uGvgGFEDzuZ-"
   },
   "outputs": [],
   "source": [
    "def count_rotations_linear(nums):\r\n",
    "  #if nums len 0 or 1\r\n",
    "  if len(nums)<=1:\r\n",
    "    return 0\r\n",
    "  #lo pointer and hi pointer\r\n",
    "  lo = 0\r\n",
    "  hi = len(nums)-1\r\n",
    "  #if no rotation\r\n",
    "  if nums[hi]>nums[lo]:\r\n",
    "    return 0\r\n",
    "  #if nums rotated n-1 times\r\n",
    "  if nums[hi]<nums[hi-1]:\r\n",
    "      return hi\r\n",
    "  #if nums rotated 1 time\r\n",
    "  if nums[lo+1]<nums[lo]:\r\n",
    "    return 1\r\n",
    "\r\n",
    "\r\n",
    "  while lo<=hi:\r\n",
    "\r\n",
    "    if nums[lo+1]<nums[lo]:\r\n",
    "      return lo+2\r\n",
    "    else:\r\n",
    "      lo+=1\r\n",
    "  return 0"
   ]
  },
  {
   "cell_type": "code",
   "execution_count": 27,
   "id": "acceptable-airline",
   "metadata": {
    "colab": {
     "base_uri": "https://localhost:8080/"
    },
    "executionInfo": {
     "elapsed": 5172,
     "status": "ok",
     "timestamp": 1612541461024,
     "user": {
      "displayName": "Akshit Gupta",
      "photoUrl": "https://lh3.googleusercontent.com/a-/AOh14GiPSTrFQbgHbRnE9r2Xh2uYx2upQdyunc70k_EgFw=s64",
      "userId": "06732447040247812983"
     },
     "user_tz": -330
    },
    "id": "acceptable-airline",
    "outputId": "2683a57b-a9ce-42fc-d369-d37eb9be993a"
   },
   "outputs": [
    {
     "name": "stdout",
     "output_type": "stream",
     "text": [
      "\n",
      "Input:\n",
      "{'nums': [19, 25, 29, 3, 5, 6, 7, 9, 11, 14]}\n",
      "\n",
      "Expected Output:\n",
      "4\n",
      "\n",
      "\n",
      "Actual Output:\n",
      "4\n",
      "\n",
      "Execution Time:\n",
      "0.006 ms\n",
      "\n",
      "Test Result:\n",
      "\u001b[92mPASSED\u001b[0m\n",
      "\n"
     ]
    }
   ],
   "source": [
    "linear_search_result = evaluate_test_case(count_rotations_linear, test)"
   ]
  },
  {
   "cell_type": "markdown",
   "id": "organized-portfolio",
   "metadata": {
    "id": "organized-portfolio"
   },
   "source": [
    "Make sure your function passes the test. Fix bugs, if any. \n",
    "\n",
    "Let's test it out with all the test cases."
   ]
  },
  {
   "cell_type": "code",
   "execution_count": 28,
   "id": "cooperative-third",
   "metadata": {
    "colab": {
     "base_uri": "https://localhost:8080/"
    },
    "executionInfo": {
     "elapsed": 830,
     "status": "ok",
     "timestamp": 1612541462835,
     "user": {
      "displayName": "Akshit Gupta",
      "photoUrl": "https://lh3.googleusercontent.com/a-/AOh14GiPSTrFQbgHbRnE9r2Xh2uYx2upQdyunc70k_EgFw=s64",
      "userId": "06732447040247812983"
     },
     "user_tz": -330
    },
    "id": "cooperative-third",
    "outputId": "e4690ec9-4b84-44a6-bf68-ed869b6d8791"
   },
   "outputs": [
    {
     "name": "stdout",
     "output_type": "stream",
     "text": [
      "\n",
      "\u001b[1mTEST CASE #0\u001b[0m\n",
      "\n",
      "Input:\n",
      "{'nums': [19, 25, 29, 3, 5, 6, 7, 9, 11, 14]}\n",
      "\n",
      "Expected Output:\n",
      "4\n",
      "\n",
      "\n",
      "Actual Output:\n",
      "4\n",
      "\n",
      "Execution Time:\n",
      "0.006 ms\n",
      "\n",
      "Test Result:\n",
      "\u001b[92mPASSED\u001b[0m\n",
      "\n",
      "\n",
      "\u001b[1mTEST CASE #1\u001b[0m\n",
      "\n",
      "Input:\n",
      "{'nums': [5, 6, 7, 8, 1, 2, 3, 4]}\n",
      "\n",
      "Expected Output:\n",
      "5\n",
      "\n",
      "\n",
      "Actual Output:\n",
      "5\n",
      "\n",
      "Execution Time:\n",
      "0.005 ms\n",
      "\n",
      "Test Result:\n",
      "\u001b[92mPASSED\u001b[0m\n",
      "\n",
      "\n",
      "\u001b[1mTEST CASE #2\u001b[0m\n",
      "\n",
      "Input:\n",
      "{'nums': [1, 2, 3, 4, 5]}\n",
      "\n",
      "Expected Output:\n",
      "0\n",
      "\n",
      "\n",
      "Actual Output:\n",
      "0\n",
      "\n",
      "Execution Time:\n",
      "0.004 ms\n",
      "\n",
      "Test Result:\n",
      "\u001b[92mPASSED\u001b[0m\n",
      "\n",
      "\n",
      "\u001b[1mTEST CASE #3\u001b[0m\n",
      "\n",
      "Input:\n",
      "{'nums': [5, 1, 2, 3, 4]}\n",
      "\n",
      "Expected Output:\n",
      "1\n",
      "\n",
      "\n",
      "Actual Output:\n",
      "1\n",
      "\n",
      "Execution Time:\n",
      "0.003 ms\n",
      "\n",
      "Test Result:\n",
      "\u001b[92mPASSED\u001b[0m\n",
      "\n",
      "\n",
      "\u001b[1mTEST CASE #4\u001b[0m\n",
      "\n",
      "Input:\n",
      "{'nums': [2, 3, 4, 1]}\n",
      "\n",
      "Expected Output:\n",
      "3\n",
      "\n",
      "\n",
      "Actual Output:\n",
      "3\n",
      "\n",
      "Execution Time:\n",
      "0.003 ms\n",
      "\n",
      "Test Result:\n",
      "\u001b[92mPASSED\u001b[0m\n",
      "\n",
      "\n",
      "\u001b[1mTEST CASE #5\u001b[0m\n",
      "\n",
      "Input:\n",
      "{'nums': [1, 2, 3]}\n",
      "\n",
      "Expected Output:\n",
      "0\n",
      "\n",
      "\n",
      "Actual Output:\n",
      "0\n",
      "\n",
      "Execution Time:\n",
      "0.003 ms\n",
      "\n",
      "Test Result:\n",
      "\u001b[92mPASSED\u001b[0m\n",
      "\n",
      "\n",
      "\u001b[1mTEST CASE #6\u001b[0m\n",
      "\n",
      "Input:\n",
      "{'nums': []}\n",
      "\n",
      "Expected Output:\n",
      "0\n",
      "\n",
      "\n",
      "Actual Output:\n",
      "0\n",
      "\n",
      "Execution Time:\n",
      "0.003 ms\n",
      "\n",
      "Test Result:\n",
      "\u001b[92mPASSED\u001b[0m\n",
      "\n",
      "\n",
      "\u001b[1mTEST CASE #7\u001b[0m\n",
      "\n",
      "Input:\n",
      "{'nums': [1]}\n",
      "\n",
      "Expected Output:\n",
      "0\n",
      "\n",
      "\n",
      "Actual Output:\n",
      "0\n",
      "\n",
      "Execution Time:\n",
      "0.002 ms\n",
      "\n",
      "Test Result:\n",
      "\u001b[92mPASSED\u001b[0m\n",
      "\n",
      "\n",
      "\u001b[1mSUMMARY\u001b[0m\n",
      "\n",
      "TOTAL: 8, \u001b[92mPASSED\u001b[0m: 8, \u001b[91mFAILED\u001b[0m: 0\n"
     ]
    }
   ],
   "source": [
    "linear_search_results = evaluate_test_cases(count_rotations_linear, tests)"
   ]
  },
  {
   "cell_type": "markdown",
   "id": "statistical-lending",
   "metadata": {
    "id": "statistical-lending"
   },
   "source": [
    "Once again, make sure all the tests pass. Fix errors and bugs, if any.\n",
    "\n",
    "**NOTE**: During evaluation, your submission will be tested against a much larger set of test cases (not listed here). Make sure to test your solution thoroughly.\n",
    "\n",
    "If you are stuck, you can ask for help on the community forum: https://jovian.ai/forum/c/data-structures-and-algorithms-in-python/assignment-1/87 . You can get help with errors or ask for hints, but **please don't ask for OR share the full working answer code** on the forum."
   ]
  },
  {
   "cell_type": "markdown",
   "id": "economic-spray",
   "metadata": {
    "id": "economic-spray"
   },
   "source": [
    "### 5. Analyze the algorithm's complexity and identify inefficiencies, if any.\n",
    "\n",
    "Count the maximum number of iterations it may take for the algorithm to return the result.\n",
    "\n",
    "_**Q: What is the worst-case complexity (running time) of the algorithm expressed in the Big O Notation? Assume that the size of the list is `N` (uppercase).**_\n"
   ]
  },
  {
   "cell_type": "code",
   "execution_count": 29,
   "id": "attended-indonesia",
   "metadata": {
    "executionInfo": {
     "elapsed": 1081,
     "status": "ok",
     "timestamp": 1612541465381,
     "user": {
      "displayName": "Akshit Gupta",
      "photoUrl": "https://lh3.googleusercontent.com/a-/AOh14GiPSTrFQbgHbRnE9r2Xh2uYx2upQdyunc70k_EgFw=s64",
      "userId": "06732447040247812983"
     },
     "user_tz": -330
    },
    "id": "attended-indonesia"
   },
   "outputs": [],
   "source": [
    "linear_search_complexity = \"O(n)\""
   ]
  },
  {
   "cell_type": "markdown",
   "id": "pregnant-steal",
   "metadata": {
    "id": "pregnant-steal"
   },
   "source": [
    "### 6. Apply the right technique to overcome the inefficiency. Repeat steps 3 to 6.\n",
    "\n",
    "As you might have guessed, we can apply _Binary Search_ to solve this problem. The key question we need to answer in binary search is: Given the middle element, how to decide if it is the answer (smallest number), or whether the answer lies to the left or right of it. \n",
    "\n",
    "If the middle element is smaller than its predecessor, then it is the answer. However, if it isn't, this check is not sufficient to determine whether the answer lies to the left or the right of it. Consider the following examples.\n",
    "\n",
    "`[7, 8, 1, 3, 4, 5, 6]` (answer lies to the left of the middle element)\n",
    "\n",
    "`[1, 2, 3, 4, 5, -1, 0]` (answer lies to the right of the middle element)\n",
    "\n",
    "Here's a check that will help us determine if the answer lies to the left or the right: _If the middle element of the list is smaller than the last element of the range, then the answer lies to the right of it. Otherwise, the answer lies to the left._\n",
    "\n",
    "Do you see why this strategy works?\n"
   ]
  },
  {
   "cell_type": "markdown",
   "id": "static-finder",
   "metadata": {
    "id": "static-finder"
   },
   "source": [
    "### 7. Come up with a correct solution for the problem. State it in plain English.\n",
    "\n",
    "Before we implement the solution, it's useful to describe it in a way that makes most sense to you. In a coding interview, you will almost certainly be asked to describe your approach before you start writing code.\n",
    "\n",
    "_**Q (Optional): Describe the binary search solution explained above problem in your own words.**_\n",
    "\n",
    "1. **???**\n",
    "2. **???**\n",
    "3. **???**\n",
    "4. **???**\n",
    "\n",
    "(add more steps if required)\n",
    "\n",
    "Let's save and upload our work before continuing."
   ]
  },
  {
   "cell_type": "code",
   "execution_count": 2,
   "id": "chronic-notebook",
   "metadata": {
    "colab": {
     "base_uri": "https://localhost:8080/",
     "height": 162
    },
    "executionInfo": {
     "elapsed": 953,
     "status": "error",
     "timestamp": 1612541364172,
     "user": {
      "displayName": "Akshit Gupta",
      "photoUrl": "https://lh3.googleusercontent.com/a-/AOh14GiPSTrFQbgHbRnE9r2Xh2uYx2upQdyunc70k_EgFw=s64",
      "userId": "06732447040247812983"
     },
     "user_tz": -330
    },
    "id": "chronic-notebook",
    "outputId": "55fc09b6-c4bb-43ed-b595-bf06dcfd018b"
   },
   "outputs": [
    {
     "ename": "NameError",
     "evalue": "ignored",
     "output_type": "error",
     "traceback": [
      "\u001b[0;31m---------------------------------------------------------------------------\u001b[0m",
      "\u001b[0;31mNameError\u001b[0m                                 Traceback (most recent call last)",
      "\u001b[0;32m<ipython-input-2-cd0a81fd7092>\u001b[0m in \u001b[0;36m<module>\u001b[0;34m()\u001b[0m\n\u001b[0;32m----> 1\u001b[0;31m \u001b[0mjovian\u001b[0m\u001b[0;34m.\u001b[0m\u001b[0mcommit\u001b[0m\u001b[0;34m(\u001b[0m\u001b[0mproject\u001b[0m\u001b[0;34m)\u001b[0m\u001b[0;34m\u001b[0m\u001b[0;34m\u001b[0m\u001b[0m\n\u001b[0m",
      "\u001b[0;31mNameError\u001b[0m: name 'jovian' is not defined"
     ]
    }
   ],
   "source": [
    "jovian.commit(project)"
   ]
  },
  {
   "cell_type": "markdown",
   "id": "recorded-directive",
   "metadata": {
    "id": "recorded-directive"
   },
   "source": [
    "### 8. Implement the solution and test it using example inputs. Fix bugs, if any.\n",
    "\n",
    "*__Q: Implement the binary search solution described in step 7.__*\n",
    "\n",
    "If you are stuck, you can ask for help on the community forum: https://jovian.ai/forum/c/data-structures-and-algorithms-in-python/assignment-1/87 . You can get help with errors or ask for hints, but **please don't ask for OR share the full working answer code** on the forum."
   ]
  },
  {
   "cell_type": "code",
   "execution_count": 3,
   "id": "complete-thing",
   "metadata": {
    "executionInfo": {
     "elapsed": 2178,
     "status": "ok",
     "timestamp": 1612541365744,
     "user": {
      "displayName": "Akshit Gupta",
      "photoUrl": "https://lh3.googleusercontent.com/a-/AOh14GiPSTrFQbgHbRnE9r2Xh2uYx2upQdyunc70k_EgFw=s64",
      "userId": "06732447040247812983"
     },
     "user_tz": -330
    },
    "id": "complete-thing"
   },
   "outputs": [],
   "source": [
    "def count_rotations_binary(nums):\n",
    "  #if nums len 0 or 1\n",
    "  if len(nums)<=1:\n",
    "    return 0\n",
    "  #lo pointer and hi pointer\n",
    "  lo = 0\n",
    "  hi = len(nums)-1\n",
    "  #if no rotation\n",
    "  if nums[hi]>nums[lo]:\n",
    "    return 0\n",
    "  #if nums rotated n-1 times\n",
    "  if nums[hi]<nums[hi-1]:\n",
    "      return hi\n",
    "  #if nums rotated 1 time\n",
    "  if nums[lo+1]<nums[lo]:\n",
    "    return 1\n",
    "\n",
    "\n",
    "  while lo<=hi:\n",
    "    mid = (int)(lo + (hi-lo)/2) #calc mid\n",
    "    #if next to mid is ans\n",
    "    if nums[mid]>nums[mid+1]:\n",
    "      return mid+2\n",
    "      #if mid is ans\n",
    "    if nums[mid]<nums[mid-1]:\n",
    "      return mid+1\n",
    "      #adjust lo pointer\n",
    "    if nums[mid]>nums[lo]:\n",
    "      lo = mid+1\n",
    "    #adjust hi pointer\n",
    "    else:\n",
    "      hi = mid-1\n",
    "  return 0"
   ]
  },
  {
   "cell_type": "markdown",
   "id": "parliamentary-element",
   "metadata": {
    "id": "parliamentary-element"
   },
   "source": [
    "Let's test out the function with the first test case."
   ]
  },
  {
   "cell_type": "code",
   "execution_count": 4,
   "id": "assigned-worth",
   "metadata": {
    "colab": {
     "base_uri": "https://localhost:8080/",
     "height": 162
    },
    "executionInfo": {
     "elapsed": 1843,
     "status": "error",
     "timestamp": 1612541365746,
     "user": {
      "displayName": "Akshit Gupta",
      "photoUrl": "https://lh3.googleusercontent.com/a-/AOh14GiPSTrFQbgHbRnE9r2Xh2uYx2upQdyunc70k_EgFw=s64",
      "userId": "06732447040247812983"
     },
     "user_tz": -330
    },
    "id": "assigned-worth",
    "outputId": "1531f3da-f0c6-42fc-d787-c7aea02c8bd4"
   },
   "outputs": [
    {
     "ename": "NameError",
     "evalue": "ignored",
     "output_type": "error",
     "traceback": [
      "\u001b[0;31m---------------------------------------------------------------------------\u001b[0m",
      "\u001b[0;31mNameError\u001b[0m                                 Traceback (most recent call last)",
      "\u001b[0;32m<ipython-input-4-fcacc43d2b2f>\u001b[0m in \u001b[0;36m<module>\u001b[0;34m()\u001b[0m\n\u001b[0;32m----> 1\u001b[0;31m \u001b[0mbinary_search_result\u001b[0m \u001b[0;34m=\u001b[0m \u001b[0mevaluate_test_case\u001b[0m\u001b[0;34m(\u001b[0m\u001b[0mcount_rotations_binary\u001b[0m\u001b[0;34m,\u001b[0m \u001b[0mtest\u001b[0m\u001b[0;34m)\u001b[0m\u001b[0;34m\u001b[0m\u001b[0;34m\u001b[0m\u001b[0m\n\u001b[0m",
      "\u001b[0;31mNameError\u001b[0m: name 'evaluate_test_case' is not defined"
     ]
    }
   ],
   "source": [
    "binary_search_result = evaluate_test_case(count_rotations_binary, test)"
   ]
  },
  {
   "cell_type": "markdown",
   "id": "noted-planning",
   "metadata": {
    "id": "noted-planning"
   },
   "source": [
    "Make sure your function passes the test. Fix bugs, if any.\n",
    "\n",
    "Let's test it out with all the test cases."
   ]
  },
  {
   "cell_type": "code",
   "execution_count": 5,
   "id": "operational-symposium",
   "metadata": {
    "colab": {
     "base_uri": "https://localhost:8080/",
     "height": 162
    },
    "executionInfo": {
     "elapsed": 2112,
     "status": "error",
     "timestamp": 1612541366428,
     "user": {
      "displayName": "Akshit Gupta",
      "photoUrl": "https://lh3.googleusercontent.com/a-/AOh14GiPSTrFQbgHbRnE9r2Xh2uYx2upQdyunc70k_EgFw=s64",
      "userId": "06732447040247812983"
     },
     "user_tz": -330
    },
    "id": "operational-symposium",
    "outputId": "55dccf26-0e53-40ab-91a1-25b991f45fbc"
   },
   "outputs": [
    {
     "ename": "NameError",
     "evalue": "ignored",
     "output_type": "error",
     "traceback": [
      "\u001b[0;31m---------------------------------------------------------------------------\u001b[0m",
      "\u001b[0;31mNameError\u001b[0m                                 Traceback (most recent call last)",
      "\u001b[0;32m<ipython-input-5-4bd5f127debc>\u001b[0m in \u001b[0;36m<module>\u001b[0;34m()\u001b[0m\n\u001b[0;32m----> 1\u001b[0;31m \u001b[0mbinary_search_results\u001b[0m \u001b[0;34m=\u001b[0m \u001b[0mevaluate_test_cases\u001b[0m\u001b[0;34m(\u001b[0m\u001b[0mcount_rotations_binary\u001b[0m\u001b[0;34m,\u001b[0m \u001b[0mtests\u001b[0m\u001b[0;34m)\u001b[0m\u001b[0;34m\u001b[0m\u001b[0;34m\u001b[0m\u001b[0m\n\u001b[0m",
      "\u001b[0;31mNameError\u001b[0m: name 'evaluate_test_cases' is not defined"
     ]
    }
   ],
   "source": [
    "binary_search_results = evaluate_test_cases(count_rotations_binary, tests) "
   ]
  },
  {
   "cell_type": "markdown",
   "id": "normal-gregory",
   "metadata": {
    "id": "normal-gregory"
   },
   "source": [
    "Once again, make sure all the tests pass. Fix errors and bugs, if any.\n",
    "\n",
    "**NOTE**: During evaluation, your submission will be tested against a much larger set of test cases (not listed here). Make sure to test your solution thoroughly.\n",
    "\n",
    "If you are stuck, you can ask for help on the community forum: https://jovian.ai/forum/c/data-structures-and-algorithms-in-python/assignment-1/87 . You can get help with errors or ask for hints, but **please don't ask for OR share the full working answer code** on the forum.\n",
    "\n",
    "Let's save our work before continuing."
   ]
  },
  {
   "cell_type": "code",
   "execution_count": null,
   "id": "amateur-stomach",
   "metadata": {
    "executionInfo": {
     "elapsed": 1718,
     "status": "aborted",
     "timestamp": 1612541366423,
     "user": {
      "displayName": "Akshit Gupta",
      "photoUrl": "https://lh3.googleusercontent.com/a-/AOh14GiPSTrFQbgHbRnE9r2Xh2uYx2upQdyunc70k_EgFw=s64",
      "userId": "06732447040247812983"
     },
     "user_tz": -330
    },
    "id": "amateur-stomach"
   },
   "outputs": [],
   "source": [
    "jovian.commit(project=project)"
   ]
  },
  {
   "cell_type": "markdown",
   "id": "honey-cosmetic",
   "metadata": {
    "id": "honey-cosmetic"
   },
   "source": [
    "### 9. Analyze the algorithm's complexity and identify inefficiencies, if any.\n",
    "\n",
    "_**Q: What is the worst-case complexity (running time) of the algorithm expressed in the Big O Notation? Assume that the size of the list is `N` (uppercase).**_\n",
    "\n",
    "Hint: Count the maximum number of iterations it may take for the algorithm to return the result."
   ]
  },
  {
   "cell_type": "code",
   "execution_count": null,
   "id": "negative-metallic",
   "metadata": {
    "executionInfo": {
     "elapsed": 1468,
     "status": "aborted",
     "timestamp": 1612541366425,
     "user": {
      "displayName": "Akshit Gupta",
      "photoUrl": "https://lh3.googleusercontent.com/a-/AOh14GiPSTrFQbgHbRnE9r2Xh2uYx2upQdyunc70k_EgFw=s64",
      "userId": "06732447040247812983"
     },
     "user_tz": -330
    },
    "id": "negative-metallic"
   },
   "outputs": [],
   "source": [
    "binary_search_complexity = \"O(logn)\""
   ]
  },
  {
   "cell_type": "markdown",
   "id": "round-lounge",
   "metadata": {
    "id": "round-lounge"
   },
   "source": [
    "Is binary search the optimal solution to the problem? How can you prove it? Discuss in the forums.\n",
    "\n",
    "Let's save our work before continuing."
   ]
  },
  {
   "cell_type": "code",
   "execution_count": null,
   "id": "smooth-delicious",
   "metadata": {
    "executionInfo": {
     "elapsed": 1081,
     "status": "aborted",
     "timestamp": 1612541366427,
     "user": {
      "displayName": "Akshit Gupta",
      "photoUrl": "https://lh3.googleusercontent.com/a-/AOh14GiPSTrFQbgHbRnE9r2Xh2uYx2upQdyunc70k_EgFw=s64",
      "userId": "06732447040247812983"
     },
     "user_tz": -330
    },
    "id": "smooth-delicious"
   },
   "outputs": [],
   "source": [
    "import jovian"
   ]
  },
  {
   "cell_type": "code",
   "execution_count": 6,
   "id": "graphic-separation",
   "metadata": {
    "colab": {
     "base_uri": "https://localhost:8080/",
     "height": 162
    },
    "executionInfo": {
     "elapsed": 1725,
     "status": "error",
     "timestamp": 1612541367269,
     "user": {
      "displayName": "Akshit Gupta",
      "photoUrl": "https://lh3.googleusercontent.com/a-/AOh14GiPSTrFQbgHbRnE9r2Xh2uYx2upQdyunc70k_EgFw=s64",
      "userId": "06732447040247812983"
     },
     "user_tz": -330
    },
    "id": "graphic-separation",
    "outputId": "46b17952-6297-4c35-ec3d-022de17568ca"
   },
   "outputs": [
    {
     "ename": "NameError",
     "evalue": "ignored",
     "output_type": "error",
     "traceback": [
      "\u001b[0;31m---------------------------------------------------------------------------\u001b[0m",
      "\u001b[0;31mNameError\u001b[0m                                 Traceback (most recent call last)",
      "\u001b[0;32m<ipython-input-6-7f2017c1a3df>\u001b[0m in \u001b[0;36m<module>\u001b[0;34m()\u001b[0m\n\u001b[0;32m----> 1\u001b[0;31m \u001b[0mjovian\u001b[0m\u001b[0;34m.\u001b[0m\u001b[0mcommit\u001b[0m\u001b[0;34m(\u001b[0m\u001b[0;34m)\u001b[0m\u001b[0;34m\u001b[0m\u001b[0;34m\u001b[0m\u001b[0m\n\u001b[0m",
      "\u001b[0;31mNameError\u001b[0m: name 'jovian' is not defined"
     ]
    }
   ],
   "source": [
    "jovian.commit()"
   ]
  },
  {
   "cell_type": "markdown",
   "id": "nominated-orleans",
   "metadata": {
    "id": "nominated-orleans"
   },
   "source": [
    "## Make a Submission\n",
    "\n",
    "To make a submission, visit the [assignment page](https://jovian.ai/learn/data-structures-and-algorithms-in-python/assignment/assignment-1-binary-search-practice) and submit the link to your notebook.\n",
    "\n",
    "You can also make a submission by executing the following statement:"
   ]
  },
  {
   "cell_type": "code",
   "execution_count": null,
   "id": "sticky-motel",
   "metadata": {
    "executionInfo": {
     "elapsed": 1211,
     "status": "aborted",
     "timestamp": 1612541367266,
     "user": {
      "displayName": "Akshit Gupta",
      "photoUrl": "https://lh3.googleusercontent.com/a-/AOh14GiPSTrFQbgHbRnE9r2Xh2uYx2upQdyunc70k_EgFw=s64",
      "userId": "06732447040247812983"
     },
     "user_tz": -330
    },
    "id": "sticky-motel"
   },
   "outputs": [],
   "source": [
    "jovian.submit(assignment=\"pythondsa-assignment1\")"
   ]
  },
  {
   "cell_type": "markdown",
   "id": "elder-cement",
   "metadata": {
    "id": "elder-cement"
   },
   "source": [
    "You can view your previous submissions under the \"Submission History\" section of the [assignment page](https://jovian.ai/learn/data-structures-and-algorithms-in-python/assignment/assignment-1-binary-search-practice). Only your last sumission will be considered for evaluation."
   ]
  },
  {
   "cell_type": "markdown",
   "id": "civilian-tyler",
   "metadata": {
    "id": "civilian-tyler"
   },
   "source": [
    "## Bonus Questions\n",
    "\n",
    "The questions in this section are optional, and will not affect your grade. Discuss the bonus questions here: https://jovian.ai/forum/t/optional-bonus-questions-discussion-assignment-1/15486\n",
    "\n",
    "You can also copy over the bonus questions to a new notebook to share your solution on the forum without sharing your assignment notebook. Duplicate this template: https://jovian.ai/aakashns/python-problem-solving-template\n",
    "\n",
    "\n",
    "### Optional Bonus 1: Using the Generic Binary Search Algorithm\n",
    "\n",
    "The `jovian` library provides a generic implementation of the binary search algorithm."
   ]
  },
  {
   "cell_type": "code",
   "execution_count": 7,
   "id": "severe-personal",
   "metadata": {
    "executionInfo": {
     "elapsed": 3617,
     "status": "ok",
     "timestamp": 1612541370200,
     "user": {
      "displayName": "Akshit Gupta",
      "photoUrl": "https://lh3.googleusercontent.com/a-/AOh14GiPSTrFQbgHbRnE9r2Xh2uYx2upQdyunc70k_EgFw=s64",
      "userId": "06732447040247812983"
     },
     "user_tz": -330
    },
    "id": "severe-personal"
   },
   "outputs": [],
   "source": [
    "from jovian.pythondsa import binary_search"
   ]
  },
  {
   "cell_type": "markdown",
   "id": "positive-vessel",
   "metadata": {
    "id": "positive-vessel"
   },
   "source": [
    "You can view it's source code using the `??` command in Jupyter or on [the Github repository](https://github.com/JovianML/jovian-py/blob/master/jovian/pythondsa/__init__.py#L68) for the `jovian` library."
   ]
  },
  {
   "cell_type": "code",
   "execution_count": 8,
   "id": "protecting-brave",
   "metadata": {
    "executionInfo": {
     "elapsed": 3623,
     "status": "ok",
     "timestamp": 1612541370598,
     "user": {
      "displayName": "Akshit Gupta",
      "photoUrl": "https://lh3.googleusercontent.com/a-/AOh14GiPSTrFQbgHbRnE9r2Xh2uYx2upQdyunc70k_EgFw=s64",
      "userId": "06732447040247812983"
     },
     "user_tz": -330
    },
    "id": "protecting-brave"
   },
   "outputs": [],
   "source": [
    "??binary_search"
   ]
  },
  {
   "cell_type": "markdown",
   "id": "direct-empty",
   "metadata": {
    "id": "direct-empty"
   },
   "source": [
    "_**Q (Optional): Implement the `count_rotations` function using the generic `binary_search` function.**_\n",
    "\n",
    "Hint: You'll need to define the condition which returns `\"found\"`, `\"left\"` or `\"right\"` by performing the appropriate check on the middle position in the range."
   ]
  },
  {
   "cell_type": "code",
   "execution_count": 9,
   "id": "amino-feedback",
   "metadata": {
    "executionInfo": {
     "elapsed": 4218,
     "status": "ok",
     "timestamp": 1612541371622,
     "user": {
      "displayName": "Akshit Gupta",
      "photoUrl": "https://lh3.googleusercontent.com/a-/AOh14GiPSTrFQbgHbRnE9r2Xh2uYx2upQdyunc70k_EgFw=s64",
      "userId": "06732447040247812983"
     },
     "user_tz": -330
    },
    "id": "amino-feedback"
   },
   "outputs": [],
   "source": [
    "def count_rotations_generic(nums):\n",
    "    def condition(mid):\n",
    "        pass # replace this with your code\n",
    "        \n",
    "    return binary_search(0, len(nums)-1, condition)"
   ]
  },
  {
   "cell_type": "code",
   "execution_count": 10,
   "id": "eastern-raising",
   "metadata": {
    "colab": {
     "base_uri": "https://localhost:8080/",
     "height": 162
    },
    "executionInfo": {
     "elapsed": 4087,
     "status": "error",
     "timestamp": 1612541371648,
     "user": {
      "displayName": "Akshit Gupta",
      "photoUrl": "https://lh3.googleusercontent.com/a-/AOh14GiPSTrFQbgHbRnE9r2Xh2uYx2upQdyunc70k_EgFw=s64",
      "userId": "06732447040247812983"
     },
     "user_tz": -330
    },
    "id": "eastern-raising",
    "outputId": "b5dc8a1b-47f3-4a1e-b45e-78e944310581"
   },
   "outputs": [
    {
     "ename": "NameError",
     "evalue": "ignored",
     "output_type": "error",
     "traceback": [
      "\u001b[0;31m---------------------------------------------------------------------------\u001b[0m",
      "\u001b[0;31mNameError\u001b[0m                                 Traceback (most recent call last)",
      "\u001b[0;32m<ipython-input-10-cbd7e79eb497>\u001b[0m in \u001b[0;36m<module>\u001b[0;34m()\u001b[0m\n\u001b[0;32m----> 1\u001b[0;31m \u001b[0mevaluate_test_case\u001b[0m\u001b[0;34m(\u001b[0m\u001b[0mcount_rotations_generic\u001b[0m\u001b[0;34m,\u001b[0m \u001b[0mtest\u001b[0m\u001b[0;34m)\u001b[0m\u001b[0;34m\u001b[0m\u001b[0;34m\u001b[0m\u001b[0m\n\u001b[0m",
      "\u001b[0;31mNameError\u001b[0m: name 'evaluate_test_case' is not defined"
     ]
    }
   ],
   "source": [
    "evaluate_test_case(count_rotations_generic, test)"
   ]
  },
  {
   "cell_type": "code",
   "execution_count": null,
   "id": "failing-monitoring",
   "metadata": {
    "executionInfo": {
     "elapsed": 3897,
     "status": "aborted",
     "timestamp": 1612541371624,
     "user": {
      "displayName": "Akshit Gupta",
      "photoUrl": "https://lh3.googleusercontent.com/a-/AOh14GiPSTrFQbgHbRnE9r2Xh2uYx2upQdyunc70k_EgFw=s64",
      "userId": "06732447040247812983"
     },
     "user_tz": -330
    },
    "id": "failing-monitoring"
   },
   "outputs": [],
   "source": [
    "evaluate_test_cases(count_rotations_generic, test)"
   ]
  },
  {
   "cell_type": "code",
   "execution_count": null,
   "id": "closed-monday",
   "metadata": {
    "executionInfo": {
     "elapsed": 3663,
     "status": "aborted",
     "timestamp": 1612541371627,
     "user": {
      "displayName": "Akshit Gupta",
      "photoUrl": "https://lh3.googleusercontent.com/a-/AOh14GiPSTrFQbgHbRnE9r2Xh2uYx2upQdyunc70k_EgFw=s64",
      "userId": "06732447040247812983"
     },
     "user_tz": -330
    },
    "id": "closed-monday"
   },
   "outputs": [],
   "source": [
    "jovian.commit()"
   ]
  },
  {
   "cell_type": "markdown",
   "id": "realistic-assessment",
   "metadata": {
    "id": "realistic-assessment"
   },
   "source": [
    "Discuss your solution on the forum: https://jovian.ai/forum/c/data-structures-and-algorithms-in-python/assignment-1/87"
   ]
  },
  {
   "cell_type": "markdown",
   "id": "naughty-spotlight",
   "metadata": {
    "id": "naughty-spotlight"
   },
   "source": [
    "### Optional Bonus 2: Handling repeating numbers\n",
    "\n",
    "So far we've assumed that the numbers in the list are unique. What if the numbers can repeat? E.g. `[5, 6, 6, 9, 9, 9, 0, 0, 2, 3, 3, 3, 3, 4, 4]`. Can you modify your solution to handle this special case?\n",
    "\n",
    "\n",
    "_**Q (Optional): Create additional test cases where the list can contain repeating numbers**_"
   ]
  },
  {
   "cell_type": "code",
   "execution_count": null,
   "id": "designed-stationery",
   "metadata": {
    "executionInfo": {
     "elapsed": 2725,
     "status": "aborted",
     "timestamp": 1612541371630,
     "user": {
      "displayName": "Akshit Gupta",
      "photoUrl": "https://lh3.googleusercontent.com/a-/AOh14GiPSTrFQbgHbRnE9r2Xh2uYx2upQdyunc70k_EgFw=s64",
      "userId": "06732447040247812983"
     },
     "user_tz": -330
    },
    "id": "designed-stationery"
   },
   "outputs": [],
   "source": [
    "extended_tests = list(tests)"
   ]
  },
  {
   "cell_type": "code",
   "execution_count": null,
   "id": "reflected-backup",
   "metadata": {
    "executionInfo": {
     "elapsed": 2591,
     "status": "aborted",
     "timestamp": 1612541371632,
     "user": {
      "displayName": "Akshit Gupta",
      "photoUrl": "https://lh3.googleusercontent.com/a-/AOh14GiPSTrFQbgHbRnE9r2Xh2uYx2upQdyunc70k_EgFw=s64",
      "userId": "06732447040247812983"
     },
     "user_tz": -330
    },
    "id": "reflected-backup"
   },
   "outputs": [],
   "source": [
    "extended_test.append({\n",
    "    # add your test case here\n",
    "})"
   ]
  },
  {
   "cell_type": "code",
   "execution_count": null,
   "id": "rental-specific",
   "metadata": {
    "executionInfo": {
     "elapsed": 2457,
     "status": "aborted",
     "timestamp": 1612541371634,
     "user": {
      "displayName": "Akshit Gupta",
      "photoUrl": "https://lh3.googleusercontent.com/a-/AOh14GiPSTrFQbgHbRnE9r2Xh2uYx2upQdyunc70k_EgFw=s64",
      "userId": "06732447040247812983"
     },
     "user_tz": -330
    },
    "id": "rental-specific"
   },
   "outputs": [],
   "source": [
    "extended_test.append({\n",
    "    # add your test case here\n",
    "})"
   ]
  },
  {
   "cell_type": "code",
   "execution_count": null,
   "id": "social-baker",
   "metadata": {
    "executionInfo": {
     "elapsed": 2346,
     "status": "aborted",
     "timestamp": 1612541371636,
     "user": {
      "displayName": "Akshit Gupta",
      "photoUrl": "https://lh3.googleusercontent.com/a-/AOh14GiPSTrFQbgHbRnE9r2Xh2uYx2upQdyunc70k_EgFw=s64",
      "userId": "06732447040247812983"
     },
     "user_tz": -330
    },
    "id": "social-baker"
   },
   "outputs": [],
   "source": [
    "# add more test cases if required"
   ]
  },
  {
   "cell_type": "code",
   "execution_count": null,
   "id": "finnish-sudan",
   "metadata": {
    "executionInfo": {
     "elapsed": 2219,
     "status": "aborted",
     "timestamp": 1612541371639,
     "user": {
      "displayName": "Akshit Gupta",
      "photoUrl": "https://lh3.googleusercontent.com/a-/AOh14GiPSTrFQbgHbRnE9r2Xh2uYx2upQdyunc70k_EgFw=s64",
      "userId": "06732447040247812983"
     },
     "user_tz": -330
    },
    "id": "finnish-sudan"
   },
   "outputs": [],
   "source": [
    "jovian.commit()"
   ]
  },
  {
   "cell_type": "markdown",
   "id": "freelance-kinase",
   "metadata": {
    "id": "freelance-kinase"
   },
   "source": [
    "_**Q (Optional): Modify your solution (if required) to handle the case where the list can contain repeating numbers.**_"
   ]
  },
  {
   "cell_type": "code",
   "execution_count": null,
   "id": "vocational-revolution",
   "metadata": {
    "executionInfo": {
     "elapsed": 2039,
     "status": "aborted",
     "timestamp": 1612541371643,
     "user": {
      "displayName": "Akshit Gupta",
      "photoUrl": "https://lh3.googleusercontent.com/a-/AOh14GiPSTrFQbgHbRnE9r2Xh2uYx2upQdyunc70k_EgFw=s64",
      "userId": "06732447040247812983"
     },
     "user_tz": -330
    },
    "id": "vocational-revolution"
   },
   "outputs": [],
   "source": [
    "def count_rotations_generic(nums):\n",
    "    pass # replace this with your code"
   ]
  },
  {
   "cell_type": "markdown",
   "id": "comic-metabolism",
   "metadata": {
    "id": "comic-metabolism"
   },
   "source": [
    "Test your function to make sure it works properly."
   ]
  },
  {
   "cell_type": "code",
   "execution_count": null,
   "id": "unlike-offset",
   "metadata": {
    "executionInfo": {
     "elapsed": 1593,
     "status": "aborted",
     "timestamp": 1612541371646,
     "user": {
      "displayName": "Akshit Gupta",
      "photoUrl": "https://lh3.googleusercontent.com/a-/AOh14GiPSTrFQbgHbRnE9r2Xh2uYx2upQdyunc70k_EgFw=s64",
      "userId": "06732447040247812983"
     },
     "user_tz": -330
    },
    "id": "unlike-offset"
   },
   "outputs": [],
   "source": []
  },
  {
   "cell_type": "code",
   "execution_count": 10,
   "id": "pregnant-roommate",
   "metadata": {
    "executionInfo": {
     "elapsed": 828,
     "status": "ok",
     "timestamp": 1612541372249,
     "user": {
      "displayName": "Akshit Gupta",
      "photoUrl": "https://lh3.googleusercontent.com/a-/AOh14GiPSTrFQbgHbRnE9r2Xh2uYx2upQdyunc70k_EgFw=s64",
      "userId": "06732447040247812983"
     },
     "user_tz": -330
    },
    "id": "pregnant-roommate"
   },
   "outputs": [],
   "source": []
  },
  {
   "cell_type": "markdown",
   "id": "center-solid",
   "metadata": {
    "id": "center-solid"
   },
   "source": [
    "Discuss your solution on the forum: https://jovian.ai/forum/c/data-structures-and-algorithms-in-python/assignment-1/87"
   ]
  },
  {
   "cell_type": "markdown",
   "id": "intermediate-mailman",
   "metadata": {
    "id": "intermediate-mailman"
   },
   "source": [
    "### Optional Bonus 3: Searching in a Rotated List\n",
    "\n",
    "Here's a slightly advanced extension to this problem:\n",
    "\n",
    "> You are given list of numbers, obtained by rotating a sorted list an unknown number of times. You are also given a target number. Write a function to find the position of the target number within the rotated list. You can assume that all the numbers in the list are unique.\n",
    ">\n",
    "> Example: In the rotated sorted list `[5, 6, 9, 0, 2, 3, 4]`, the target number `2` occurs at position `5`."
   ]
  },
  {
   "cell_type": "markdown",
   "id": "happy-attack",
   "metadata": {
    "id": "happy-attack"
   },
   "source": [
    "**Q (Optional): Create some test cases for the above problem.**"
   ]
  },
  {
   "cell_type": "code",
   "execution_count": 11,
   "id": "efficient-coffee",
   "metadata": {
    "executionInfo": {
     "elapsed": 917,
     "status": "ok",
     "timestamp": 1612541378293,
     "user": {
      "displayName": "Akshit Gupta",
      "photoUrl": "https://lh3.googleusercontent.com/a-/AOh14GiPSTrFQbgHbRnE9r2Xh2uYx2upQdyunc70k_EgFw=s64",
      "userId": "06732447040247812983"
     },
     "user_tz": -330
    },
    "id": "efficient-coffee"
   },
   "outputs": [],
   "source": [
    "tests2 = []"
   ]
  },
  {
   "cell_type": "code",
   "execution_count": 12,
   "id": "wicked-junior",
   "metadata": {
    "executionInfo": {
     "elapsed": 660,
     "status": "ok",
     "timestamp": 1612541378855,
     "user": {
      "displayName": "Akshit Gupta",
      "photoUrl": "https://lh3.googleusercontent.com/a-/AOh14GiPSTrFQbgHbRnE9r2Xh2uYx2upQdyunc70k_EgFw=s64",
      "userId": "06732447040247812983"
     },
     "user_tz": -330
    },
    "id": "wicked-junior"
   },
   "outputs": [],
   "source": [
    "# add test cases here"
   ]
  },
  {
   "cell_type": "code",
   "execution_count": 12,
   "id": "threaded-piano",
   "metadata": {
    "executionInfo": {
     "elapsed": 1085,
     "status": "ok",
     "timestamp": 1612541384457,
     "user": {
      "displayName": "Akshit Gupta",
      "photoUrl": "https://lh3.googleusercontent.com/a-/AOh14GiPSTrFQbgHbRnE9r2Xh2uYx2upQdyunc70k_EgFw=s64",
      "userId": "06732447040247812983"
     },
     "user_tz": -330
    },
    "id": "threaded-piano"
   },
   "outputs": [],
   "source": []
  },
  {
   "cell_type": "markdown",
   "id": "still-presentation",
   "metadata": {
    "id": "still-presentation"
   },
   "source": [
    "**Q (Optional): Implement a solution to the above problem using binary search.**\n",
    "\n",
    "_HINT:_ One way to solve this problem is to identify two sorted subarrays within the given array (using the `count_rotations_binary` function defined above), then perform a binary search on each subarray to determine the position of the target element. Another way is to modify `count_rotations_binary` to solve the problem directly."
   ]
  },
  {
   "cell_type": "code",
   "execution_count": 13,
   "id": "great-peter",
   "metadata": {
    "executionInfo": {
     "elapsed": 902,
     "status": "ok",
     "timestamp": 1612541385267,
     "user": {
      "displayName": "Akshit Gupta",
      "photoUrl": "https://lh3.googleusercontent.com/a-/AOh14GiPSTrFQbgHbRnE9r2Xh2uYx2upQdyunc70k_EgFw=s64",
      "userId": "06732447040247812983"
     },
     "user_tz": -330
    },
    "id": "great-peter"
   },
   "outputs": [],
   "source": [
    "def find_element(nums, target):\n",
    "    pass "
   ]
  },
  {
   "cell_type": "markdown",
   "id": "initial-arthur",
   "metadata": {
    "id": "initial-arthur"
   },
   "source": [
    "Test your solution using the cells below."
   ]
  },
  {
   "cell_type": "code",
   "execution_count": 13,
   "id": "duplicate-separate",
   "metadata": {
    "executionInfo": {
     "elapsed": 974,
     "status": "ok",
     "timestamp": 1612541386232,
     "user": {
      "displayName": "Akshit Gupta",
      "photoUrl": "https://lh3.googleusercontent.com/a-/AOh14GiPSTrFQbgHbRnE9r2Xh2uYx2upQdyunc70k_EgFw=s64",
      "userId": "06732447040247812983"
     },
     "user_tz": -330
    },
    "id": "duplicate-separate"
   },
   "outputs": [],
   "source": []
  },
  {
   "cell_type": "markdown",
   "id": "choice-utilization",
   "metadata": {
    "id": "choice-utilization"
   },
   "source": [
    "You can test your solution to the above problem here: https://leetcode.com/problems/search-in-rotated-sorted-array/\n",
    "\n",
    "Discuss your approach on the forum: https://jovian.ai/forum/c/data-structures-and-algorithms-in-python/assignment-1/87"
   ]
  },
  {
   "cell_type": "code",
   "execution_count": 14,
   "id": "useful-bhutan",
   "metadata": {
    "colab": {
     "base_uri": "https://localhost:8080/",
     "height": 162
    },
    "executionInfo": {
     "elapsed": 865,
     "status": "error",
     "timestamp": 1612541386905,
     "user": {
      "displayName": "Akshit Gupta",
      "photoUrl": "https://lh3.googleusercontent.com/a-/AOh14GiPSTrFQbgHbRnE9r2Xh2uYx2upQdyunc70k_EgFw=s64",
      "userId": "06732447040247812983"
     },
     "user_tz": -330
    },
    "id": "useful-bhutan",
    "outputId": "4bf53749-82e8-4b61-d826-bec130a7b09c"
   },
   "outputs": [
    {
     "ename": "NameError",
     "evalue": "ignored",
     "output_type": "error",
     "traceback": [
      "\u001b[0;31m---------------------------------------------------------------------------\u001b[0m",
      "\u001b[0;31mNameError\u001b[0m                                 Traceback (most recent call last)",
      "\u001b[0;32m<ipython-input-14-7f2017c1a3df>\u001b[0m in \u001b[0;36m<module>\u001b[0;34m()\u001b[0m\n\u001b[0;32m----> 1\u001b[0;31m \u001b[0mjovian\u001b[0m\u001b[0;34m.\u001b[0m\u001b[0mcommit\u001b[0m\u001b[0;34m(\u001b[0m\u001b[0;34m)\u001b[0m\u001b[0;34m\u001b[0m\u001b[0;34m\u001b[0m\u001b[0m\n\u001b[0m",
      "\u001b[0;31mNameError\u001b[0m: name 'jovian' is not defined"
     ]
    }
   ],
   "source": [
    "jovian.commit()"
   ]
  },
  {
   "cell_type": "code",
   "execution_count": 14,
   "id": "KEAo4WIO9Nxz",
   "metadata": {
    "executionInfo": {
     "elapsed": 1318,
     "status": "ok",
     "timestamp": 1612541387491,
     "user": {
      "displayName": "Akshit Gupta",
      "photoUrl": "https://lh3.googleusercontent.com/a-/AOh14GiPSTrFQbgHbRnE9r2Xh2uYx2upQdyunc70k_EgFw=s64",
      "userId": "06732447040247812983"
     },
     "user_tz": -330
    },
    "id": "KEAo4WIO9Nxz"
   },
   "outputs": [],
   "source": []
  }
 ],
 "metadata": {
  "colab": {
   "name": "python-binary-search-assignment.ipynb",
   "provenance": []
  },
  "kernelspec": {
   "display_name": "Python 3",
   "language": "python",
   "name": "python3"
  },
  "language_info": {
   "codemirror_mode": {
    "name": "ipython",
    "version": 3
   },
   "file_extension": ".py",
   "mimetype": "text/x-python",
   "name": "python",
   "nbconvert_exporter": "python",
   "pygments_lexer": "ipython3",
   "version": "3.6.12"
  }
 },
 "nbformat": 4,
 "nbformat_minor": 5
}